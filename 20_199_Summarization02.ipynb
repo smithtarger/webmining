{
  "nbformat": 4,
  "nbformat_minor": 0,
  "metadata": {
    "colab": {
      "provenance": [],
      "toc_visible": true,
      "authorship_tag": "ABX9TyOKUxx9m2QezCK+WLfPU6yk",
      "include_colab_link": true
    },
    "kernelspec": {
      "name": "python3",
      "display_name": "Python 3"
    },
    "language_info": {
      "name": "python"
    }
  },
  "cells": [
    {
      "cell_type": "markdown",
      "metadata": {
        "id": "view-in-github",
        "colab_type": "text"
      },
      "source": [
        "<a href=\"https://colab.research.google.com/github/smithtarger/webmining/blob/main/20_199_Summarization02.ipynb\" target=\"_parent\"><img src=\"https://colab.research.google.com/assets/colab-badge.svg\" alt=\"Open In Colab\"/></a>"
      ]
    },
    {
      "cell_type": "code",
      "source": [
        "pip install PyPDF2"
      ],
      "metadata": {
        "colab": {
          "base_uri": "https://localhost:8080/"
        },
        "id": "YpnduPWQV1v4",
        "outputId": "f2c7ba9d-f4e2-446c-d3c4-501d7797d0b9"
      },
      "execution_count": null,
      "outputs": [
        {
          "output_type": "stream",
          "name": "stdout",
          "text": [
            "Looking in indexes: https://pypi.org/simple, https://us-python.pkg.dev/colab-wheels/public/simple/\n",
            "Collecting PyPDF2\n",
            "  Downloading pypdf2-3.0.1-py3-none-any.whl (232 kB)\n",
            "\u001b[2K     \u001b[90m━━━━━━━━━━━━━━━━━━━━━━━━━━━━━━━━━━━━━━━\u001b[0m \u001b[32m232.6/232.6 kB\u001b[0m \u001b[31m7.2 MB/s\u001b[0m eta \u001b[36m0:00:00\u001b[0m\n",
            "\u001b[?25hRequirement already satisfied: typing_extensions>=3.10.0.0 in /usr/local/lib/python3.9/dist-packages (from PyPDF2) (4.5.0)\n",
            "Installing collected packages: PyPDF2\n",
            "Successfully installed PyPDF2-3.0.1\n"
          ]
        }
      ]
    },
    {
      "cell_type": "code",
      "source": [
        "pip install docx2txt"
      ],
      "metadata": {
        "colab": {
          "base_uri": "https://localhost:8080/"
        },
        "id": "Zvadf-WFV5H2",
        "outputId": "8e02a65e-5051-4350-907d-5d2d9fdbc40a"
      },
      "execution_count": null,
      "outputs": [
        {
          "output_type": "stream",
          "name": "stdout",
          "text": [
            "Looking in indexes: https://pypi.org/simple, https://us-python.pkg.dev/colab-wheels/public/simple/\n",
            "Collecting docx2txt\n",
            "  Downloading docx2txt-0.8.tar.gz (2.8 kB)\n",
            "  Preparing metadata (setup.py) ... \u001b[?25l\u001b[?25hdone\n",
            "Building wheels for collected packages: docx2txt\n",
            "  Building wheel for docx2txt (setup.py) ... \u001b[?25l\u001b[?25hdone\n",
            "  Created wheel for docx2txt: filename=docx2txt-0.8-py3-none-any.whl size=3977 sha256=1695c3c63f0d52ffb8cffdb0212a6c8fd04ee5deb2ba1e09ea100fb076cf6567\n",
            "  Stored in directory: /root/.cache/pip/wheels/40/75/01/e6c444034338bde9c7947d3467807f889123465c2371e77418\n",
            "Successfully built docx2txt\n",
            "Installing collected packages: docx2txt\n",
            "Successfully installed docx2txt-0.8\n"
          ]
        }
      ]
    },
    {
      "cell_type": "code",
      "execution_count": null,
      "metadata": {
        "id": "C0gCBByxVf3Q"
      },
      "outputs": [],
      "source": [
        "import numpy as np\n",
        "import PyPDF2\n",
        "import docx2txt\n",
        "import sys\n",
        "import matplotlib.pyplot as plt\n",
        "%matplotlib inline \n",
        "import networkx as nx\n",
        "from nltk.tokenize.punkt import PunktSentenceTokenizer\n",
        "from sklearn.feature_extraction.text import TfidfTransformer, CountVectorizer"
      ]
    },
    {
      "cell_type": "code",
      "source": [
        "def readDoc():\n",
        "    name = input('Please input a file name: ') \n",
        "    print('You have asked for the document {}'.format(name))\n",
        "\n",
        "    #membaca format file dokumen\n",
        "    if name.lower().endswith('.txt'):\n",
        "        choice = 1\n",
        "    elif name.lower().endswith('.pdf'):\n",
        "        choice = 2\n",
        "    else:\n",
        "        choice = 3\n",
        "        # print(name)\n",
        "    print(choice)\n",
        "    # Case 1: jika itu adalah file .txt\n",
        "        \n",
        "    if choice == 1:\n",
        "        f = open(name, 'r')\n",
        "        document = f.read()\n",
        "        f.close()\n",
        "            \n",
        "    # Case 2: jika itu adalah file .pdf\n",
        "    elif choice == 2:\n",
        "        pdfFileObj = open(name, 'rb')\n",
        "        pdfReader = PyPDF2.PdfFileReader(pdfFileObj)\n",
        "        pageObj = pdfReader.getPage(0)\n",
        "        document = pageObj.extractText()\n",
        "        pdfFileObj.close()\n",
        "    \n",
        "    # Case 3: jika formatnya tidak ada yang sesuai\n",
        "    else:\n",
        "        print('Failed to load a valid file')\n",
        "        print('Returning an empty string')\n",
        "        document = ''\n",
        "    \n",
        "    print(type(document))\n",
        "    return document"
      ],
      "metadata": {
        "id": "h4vfUh06VpJU"
      },
      "execution_count": null,
      "outputs": []
    },
    {
      "cell_type": "code",
      "source": [
        "def tokenize(document):\n",
        "    doc_tokenizer = PunktSentenceTokenizer()\n",
        "    sentences_list = doc_tokenizer.tokenize(document)\n",
        "    return sentences_list"
      ],
      "metadata": {
        "id": "9GdSMvARVrCl"
      },
      "execution_count": null,
      "outputs": []
    },
    {
      "cell_type": "code",
      "source": [
        "document = readDoc()\n",
        "print('The length of the file is:', end=' ')\n",
        "print(len(document))"
      ],
      "metadata": {
        "colab": {
          "base_uri": "https://localhost:8080/"
        },
        "id": "icqaVSyEVs-w",
        "outputId": "54f75299-0cee-449b-884a-e202b3d1eea2"
      },
      "execution_count": null,
      "outputs": [
        {
          "output_type": "stream",
          "name": "stdout",
          "text": [
            "Please input a file name: story1.txt\n",
            "You have asked for the document story1.txt\n",
            "1\n",
            "<class 'str'>\n",
            "The length of the file is: 7127\n"
          ]
        }
      ]
    },
    {
      "cell_type": "code",
      "source": [
        "sentences_list = tokenize(document)\n",
        "print('The size of the list in Bytes is: {}'.format(sys.getsizeof(sentences_list)))\n",
        "print('The size of the item 0 in Bytes is: {}'.format(sys.getsizeof(sentences_list[0])))"
      ],
      "metadata": {
        "colab": {
          "base_uri": "https://localhost:8080/"
        },
        "id": "OcOMIcw6V0BV",
        "outputId": "797cc488-8e1b-4b10-a1f7-4791182d4142"
      },
      "execution_count": null,
      "outputs": [
        {
          "output_type": "stream",
          "name": "stdout",
          "text": [
            "The size of the list in Bytes is: 864\n",
            "The size of the item 0 in Bytes is: 147\n"
          ]
        }
      ]
    },
    {
      "cell_type": "code",
      "source": [
        "print(type(sentences_list))"
      ],
      "metadata": {
        "colab": {
          "base_uri": "https://localhost:8080/"
        },
        "id": "V6HyxexfWZgs",
        "outputId": "fc439d67-c91d-49ff-be7e-39419292b4b8"
      },
      "execution_count": null,
      "outputs": [
        {
          "output_type": "stream",
          "name": "stdout",
          "text": [
            "<class 'list'>\n"
          ]
        }
      ]
    },
    {
      "cell_type": "code",
      "source": [
        "print('The size of the list \"sentences\" is: {}'.format(len(sentences_list)))"
      ],
      "metadata": {
        "colab": {
          "base_uri": "https://localhost:8080/"
        },
        "id": "faLmqQWIWbhM",
        "outputId": "82f314c2-449d-4a5e-ac4c-261e5bf52515"
      },
      "execution_count": null,
      "outputs": [
        {
          "output_type": "stream",
          "name": "stdout",
          "text": [
            "The size of the list \"sentences\" is: 101\n"
          ]
        }
      ]
    },
    {
      "cell_type": "code",
      "source": [
        "for i in sentences_list:\n",
        "    print(i)"
      ],
      "metadata": {
        "colab": {
          "base_uri": "https://localhost:8080/"
        },
        "id": "psQ1-8phWdZP",
        "outputId": "12a5ed95-5df6-4c6c-dbd4-35c7d316a9e6"
      },
      "execution_count": null,
      "outputs": [
        {
          "output_type": "stream",
          "name": "stdout",
          "text": [
            " In Banaras District there is a village called Bira in which an old, childless\n",
            "widow used to live.\n",
            "She was a Gond woman named Bhungi and she didn't\n",
            "own either a scrap of land or a house to live in.\n",
            "Her only source of livelihood\n",
            "was a parching oven.\n",
            "The village folk customarily have one meal a day of\n",
            "parched grains, so there was always a crowd around Bhungi's oven.\n",
            "Whatever grain she was paid for parching she would grind or fry and eat it.\n",
            "She slept in a corner of the same little shack that sheltered the oven.\n",
            "As soon\n",
            "as it was light she'd get up and go out to gather dry leaves from all around to\n",
            "make her fire.\n",
            "She would stack the leaves right next to the oven, and after\n",
            "twelve, light the fire.\n",
            "But on the days when she had to parch grain for Pandit\n",
            "Udaybhan Pandey, the owner of the village, she went to bed hungry.\n",
            "She\n",
            "was obliged to work without pay for Pandit Udaybhan Pandey She also had\n",
            "to fetch water for his house.\n",
            "And, for this reason, from time to time the oven\n",
            "was not lit.\n",
            "She lived in the Pandit's village, therefore he had full authority to\n",
            "make her do any sort of odd job.\n",
            "In his opinion if she received food for\n",
            "working from him, how could it be considered as work done without pay?\n",
            "He was doing her a favour, in fact, by letting her live in the village at all.\n",
            "It was spring, a day on which the fresh grain was fried and eaten and given\n",
            "as a gift.\n",
            "No fire was lit in the houses Bhungi's oven was being put to good\n",
            "use today.\n",
            "There was a crowd worthy of a village fair around her.\n",
            "She had\n",
            "scarcely opportunity to draw a breath.\n",
            "Because of the customer's impatience,\n",
            "squabbles kept breaking out.\n",
            "Then two servants arrived, each carrying a\n",
            "heaped basket of grain from Pandit Udaybhan with the order to parch it right\n",
            "away.\n",
            "When Bhungi saw the two baskets she was alarmed.\n",
            "It was already\n",
            "after twelve and even by sunset, she would not have time to parch so much\n",
            "grain.\n",
            "Now she would have to stay at the oven parching until after dark for\n",
            "no payment.\n",
            "In despair she took the two baskets.\n",
            "One of the flunkeys said\n",
            "menacingly, 'Don't waste any time or you'll be sorry.'\n",
            "With this command the servants went away and Bhungi began to parch the\n",
            "grain.\n",
            "It's no laughing matter to parch a whole maund of grain.\n",
            "She had to\n",
            "keep stopping from the parching in order to keep the oven fire going.\n",
            "So by\n",
            "sundown not even half the work was done.\n",
            "She was afraid Panditji's men\n",
            "would be coming.\n",
            "She began to move her hands all the more frantically.\n",
            "Soon the servants returned and said, 'Well, is the grain parched?'\n",
            "Feeling bold, Bhungi said, 'Can't you see?\n",
            "I'm parching it now.'\n",
            "'The whole day's gone and you haven't finished any more grain than this!\n",
            "Have you been roasting it or spoiling it?\n",
            "This is completely uncooked!\n",
            "How's it going to be used for food?\n",
            "It's the ruin of us!\n",
            "You’ll see what\n",
            "Panditji does to you for this.'\n",
            "The result was that that night the oven was dug up and Bhungi was left\n",
            "without a means of livelihood.\n",
            "Bhungi now had no means of support.\n",
            "The villagers suffered a good deal\n",
            "too from the destruction of the oven.\n",
            "In many houses even at noon, cooked\n",
            "cereal was no longer available.\n",
            "People went to Panditji and asked him to\n",
            "give the order for the old woman's oven to be rebuilt and the fire once more\n",
            "lighted, but he paid no attention to them.\n",
            "He could not suffer a loss of face.\n",
            "A few people who wished her well urged her to move to another village.\n",
            "But\n",
            "her heart would not accept this suggestion.\n",
            "She had spent her fifty miserable\n",
            "years in this village and she loved every leaf on every tree.\n",
            "Here she had\n",
            "known the sorrows and pleasures of life; she could not give it up now in the\n",
            "last days.\n",
            "The very idea of moving distressed her.\n",
            "Sorrow in this village was\n",
            "preferable to happiness in another.\n",
            "A month went by.\n",
            "Very early one morning Pandit Udaybhan, taking his\n",
            "little band of servants with him, went out to collect his rents.\n",
            "Now when he\n",
            "looked toward the old woman's oven he fell into a violent rage: it was being\n",
            "made again.\n",
            "Bhungi was energetically rebuilding it with balls of clay Most\n",
            "likely she'd spent the night at this work and wanted to finish it before the sun\n",
            "was high.\n",
            "She knew that she was going against the Pandit's wishes, but she\n",
            "hoped that he had forgotten his anger by then.\n",
            "But alas, the poor creature had\n",
            "gown old without growing wise.\n",
            "Suddenly Panditji shouted, 'By whose order?'\n",
            "Bewildered, Bhungi saw that he was standing before her.\n",
            "He demanded once again, 'By whose order are you building it?'\n",
            "In a flight\n",
            "she said, 'Everybody said I should build it and so I'm building it.'\n",
            "'I'll have it smashed again.\n",
            "'With this he kicked the oven.\n",
            "The wet clay\n",
            "collapsed in a heap.\n",
            "He kicked at the trough again but she ran in front of it\n",
            "and took the kick in her side.\n",
            "Rubbing her ribs she said, 'Maharaj, you're not\n",
            "afraid of anybody but you ought to fear God.\n",
            "What good does it do you to\n",
            "ruin me like this!\n",
            "Do you think gold is going to grow out of this small piece\n",
            "of land!\n",
            "For your own good, I'm telling you, don't torment poor people, don't\n",
            "be the death of me.\n",
            "'You're not going to build any oven here again.\n",
            "'If I don't how am I going to be able to eat!'\n",
            "'I'm not responsible for your belly.'\n",
            "'But if I do nothing except chores for you where will I go for food!'\n",
            "'If you’re going to stay in the village you'll have to do my chores.\n",
            "'I'll do them when I've built my over?.\n",
            "I can't do your work just for the\n",
            "sake of staying in the village.\n",
            "'Then don't, just get out of the village.\n",
            "'How can I!\n",
            "I've grown old in this hut.\n",
            "My in-laws and their grandparents\n",
            "lived in this same hut.\n",
            "Except for Yama, king of death, nobody's going to\n",
            "force me out of it now.\n",
            "'Excellent, now you're quoting Scripture!'\n",
            "Pandit Udaybhan said.\n",
            "'lf you'd\n",
            "worked hard I might have let you stay, but after this I won't rest until I've\n",
            "had you thrown out.\n",
            "‘To his attendants he said, 'Go get a pile of leaves right\n",
            "away and set fire to the whole thing; we'll show her how to make an oven.\n",
            "In a moment there was a tremendous racket.\n",
            "The names leapt towards the\n",
            "sky, the blaze spread wildly in all directions till the villagers came clustering \n",
            "around this mountain of fire.\n",
            "Hopelessly, Bhungi stood by her oven\n",
            "watching the conflagration.\n",
            "Suddenly, with a violent dash, she hurled herself\n",
            "into the names.\n",
            "They came running from everywhere but no one had the\n",
            "courage to go into the mouth of the blaze.\n",
            "In a matter of seconds her\n",
            "withered body was completely consumed.\n",
            "At that moment the wind rose with a gust.\n",
            "The liberated flames began to\n",
            "race toward the east.\n",
            "There were some peasants' huts near the oven which\n",
            "were engulfed by the fierce flames.\n",
            "Fed in this way, the blaze spread even\n",
            "further.\n",
            "Panditji's barn was in its path and it pounced upon it.\n",
            "By now the\n",
            "whole village was in a panic.\n",
            "They began to band together to put out the fire\n",
            "but the sprinkle of water acted like oil on it and the flames kept mounting\n",
            "higher.\n",
            "Pandit Udaybhan's splendid mansion was swallowed up; while he\n",
            "watched, it tossed like a ship amid wild waves and disappeared in the sea of\n",
            "fire.\n",
            "The sound of lamentation that broke out amidst the ashes was even\n",
            "more pitiful than Bhungi's grievous cries.\n"
          ]
        }
      ]
    },
    {
      "cell_type": "code",
      "source": [
        "cv = CountVectorizer()\n",
        "cv_matrix = cv.fit_transform(sentences_list)"
      ],
      "metadata": {
        "id": "LKrmjp-IWiQ5"
      },
      "execution_count": null,
      "outputs": []
    },
    {
      "cell_type": "code",
      "source": [
        "cv_demo = CountVectorizer() # a demo object of class CountVectorizer\n",
        "text_demo = [\"Ashish is good, you are bad\", \"I am not bad\"] \n",
        "res_demo = cv_demo.fit_transform(text_demo)\n",
        "print('Result demo array is {}'.format(res_demo.toarray()))\n",
        "print('Feature list: {}'.format(cv_demo.get_feature_names_out()))"
      ],
      "metadata": {
        "colab": {
          "base_uri": "https://localhost:8080/"
        },
        "id": "5A8RpFAUWkXz",
        "outputId": "e961b966-c1f1-4b5e-aaa1-9341dcddbbe8"
      },
      "execution_count": null,
      "outputs": [
        {
          "output_type": "stream",
          "name": "stdout",
          "text": [
            "Result demo array is [[0 1 1 1 1 1 0 1]\n",
            " [1 0 0 1 0 0 1 0]]\n",
            "Feature list: ['am' 'are' 'ashish' 'bad' 'good' 'is' 'not' 'you']\n"
          ]
        }
      ]
    },
    {
      "cell_type": "code",
      "source": [
        "# printing the cv_matrix type\n",
        "# and how it is being stored in memory?\n",
        "# it is stored in the compressed row format\n",
        "# compressed row format: \n",
        "print('The data type of bow matrix {}'.format(type(cv_matrix)))\n",
        "print('Shape of the matrix {}'.format(cv_matrix.get_shape))\n",
        "print('Size of the matrix is: {}'.format(sys.getsizeof(cv_matrix)))\n",
        "print(cv.get_feature_names_out())\n",
        "print(cv_matrix.toarray())"
      ],
      "metadata": {
        "colab": {
          "base_uri": "https://localhost:8080/"
        },
        "id": "nem3DLYZWrno",
        "outputId": "4903a882-b891-4b6b-9785-62d1907cbd5d"
      },
      "execution_count": null,
      "outputs": [
        {
          "output_type": "stream",
          "name": "stdout",
          "text": [
            "The data type of bow matrix <class 'scipy.sparse._csr.csr_matrix'>\n",
            "Shape of the matrix <bound method spmatrix.get_shape of <101x492 sparse matrix of type '<class 'numpy.int64'>'\n",
            "\twith 1223 stored elements in Compressed Sparse Row format>>\n",
            "Size of the matrix is: 48\n",
            "['able' 'accept' 'acted' 'afraid' 'after' 'again' 'against' 'alarmed'\n",
            " 'alas' 'all' 'already' 'also' 'always' 'am' 'amid' 'amidst' 'an' 'and'\n",
            " 'anger' 'another' 'any' 'anybody' 'are' 'around' 'arrived' 'as' 'ashes'\n",
            " 'asked' 'at' 'attendants' 'attention' 'authority' 'available' 'away'\n",
            " 'balls' 'banaras' 'band' 'barn' 'basket' 'baskets' 'be' 'because' 'bed'\n",
            " 'been' 'before' 'began' 'being' 'belly' 'bewildered' 'bhungi' 'bira'\n",
            " 'blaze' 'body' 'bold' 'breaking' 'breath' 'broke' 'build' 'building'\n",
            " 'built' 'but' 'by' 'called' 'came' 'can' 'carrying' 'cereal' 'childless'\n",
            " 'chores' 'clay' 'clustering' 'collapsed' 'collect' 'coming' 'command'\n",
            " 'completely' 'conflagration' 'considered' 'consumed' 'cooked' 'corner'\n",
            " 'could' 'courage' 'creature' 'cries' 'crowd' 'customarily' 'customer'\n",
            " 'dark' 'dash' 'day' 'days' 'deal' 'death' 'demanded' 'despair'\n",
            " 'destruction' 'didn' 'directions' 'disappeared' 'distressed' 'district'\n",
            " 'do' 'does' 'doing' 'don' 'done' 'draw' 'dry' 'dug' 'each' 'early' 'east'\n",
            " 'eat' 'eaten' 'either' 'energetically' 'engulfed' 'even' 'every'\n",
            " 'everybody' 'everywhere' 'excellent' 'except' 'face' 'fact' 'fair'\n",
            " 'favour' 'fear' 'fed' 'feeling' 'fell' 'fetch' 'few' 'fierce' 'fifty'\n",
            " 'finish' 'finished' 'fire' 'flames' 'flight' 'flunkeys' 'folk' 'food'\n",
            " 'for' 'force' 'forgotten' 'frantically' 'fresh' 'fried' 'from' 'front'\n",
            " 'fry' 'full' 'further' 'gather' 'get' 'gift' 'give' 'given' 'go' 'god'\n",
            " 'going' 'gold' 'gond' 'gone' 'good' 'gown' 'grain' 'grains'\n",
            " 'grandparents' 'grievous' 'grind' 'grow' 'growing' 'grown' 'gust' 'had'\n",
            " 'half' 'hands' 'happiness' 'hard' 'have' 'haven' 'he' 'heap' 'heaped'\n",
            " 'heart' 'her' 'here' 'herself' 'high' 'higher' 'him' 'his' 'hoped'\n",
            " 'hopelessly' 'house' 'houses' 'how' 'hungry' 'hurled' 'hut' 'huts' 'idea'\n",
            " 'if' 'impatience' 'in' 'into' 'is' 'it' 'its' 'job' 'just' 'keep' 'kept'\n",
            " 'kick' 'kicked' 'king' 'knew' 'known' 'lamentation' 'land' 'last'\n",
            " 'laughing' 'laws' 'leaf' 'leapt' 'leaves' 'left' 'let' 'letting' 'lf'\n",
            " 'liberated' 'life' 'light' 'lighted' 'like' 'likely' 'lit' 'little'\n",
            " 'live' 'lived' 'livelihood' 'll' 'longer' 'looked' 'loss' 'loved' 'made'\n",
            " 'maharaj' 'make' 'mansion' 'many' 'matter' 'maund' 'me' 'meal' 'means'\n",
            " 'men' 'menacingly' 'might' 'miserable' 'moment' 'month' 'more' 'morning'\n",
            " 'most' 'mountain' 'mounting' 'mouth' 'move' 'moving' 'much' 'my' 'named'\n",
            " 'names' 'near' 'next' 'night' 'no' 'nobody' 'noon' 'not' 'nothing' 'now'\n",
            " 'obliged' 'odd' 'of' 'oil' 'old' 'on' 'once' 'one' 'only' 'opinion'\n",
            " 'opportunity' 'or' 'order' 'ought' 'out' 'oven' 'over' 'own' 'owner'\n",
            " 'paid' 'pandey' 'pandit' 'panditji' 'panic' 'parch' 'parched' 'parching'\n",
            " 'path' 'pay' 'payment' 'peasants' 'people' 'piece' 'pile' 'pitiful'\n",
            " 'pleasures' 'poor' 'pounced' 'preferable' 'put' 'quoting' 'race' 'racket'\n",
            " 'rage' 'ran' 're' 'reason' 'rebuilding' 'rebuilt' 'received' 'rents'\n",
            " 'responsible' 'rest' 'result' 'returned' 'ribs' 'right' 'roasting' 'rose'\n",
            " 'rubbing' 'ruin' 'running' 'said' 'sake' 'same' 'saw' 'scarcely' 'scrap'\n",
            " 'scripture' 'sea' 'seconds' 'see' 'servants' 'set' 'shack' 'she'\n",
            " 'sheltered' 'ship' 'should' 'shouted' 'show' 'side' 'sky' 'slept' 'small'\n",
            " 'smashed' 'so' 'some' 'soon' 'sorrow' 'sorrows' 'sorry' 'sort' 'sound'\n",
            " 'source' 'spent' 'splendid' 'spoiling' 'spread' 'spring' 'sprinkle'\n",
            " 'squabbles' 'stack' 'standing' 'stay' 'staying' 'stood' 'stopping'\n",
            " 'suddenly' 'suffer' 'suffered' 'suggestion' 'sun' 'sundown' 'sunset'\n",
            " 'support' 'swallowed' 'taking' 'telling' 'than' 'that' 'the' 'their'\n",
            " 'them' 'then' 'there' 'therefore' 'they' 'thing' 'think' 'this' 'thrown'\n",
            " 'till' 'time' 'to' 'today' 'together' 'too' 'took' 'torment' 'tossed'\n",
            " 'toward' 'towards' 'tree' 'tremendous' 'trough' 'twelve' 'two' 'udaybhan'\n",
            " 'uncooked' 'until' 'up' 'upon' 'urged' 'us' 'use' 'used' 've' 'very'\n",
            " 'village' 'villagers' 'violent' 'wanted' 'was' 'waste' 'watched'\n",
            " 'watching' 'water' 'waves' 'way' 'we' 'well' 'went' 'were' 'wet' 'what'\n",
            " 'whatever' 'when' 'where' 'which' 'while' 'who' 'whole' 'whose' 'widow'\n",
            " 'wild' 'wildly' 'will' 'wind' 'wise' 'wished' 'wishes' 'with' 'withered'\n",
            " 'without' 'woman' 'won' 'work' 'worked' 'working' 'worthy' 'would' 'yama'\n",
            " 'years' 'you' 'your']\n",
            "[[0 0 0 ... 0 0 0]\n",
            " [0 0 0 ... 0 0 0]\n",
            " [0 0 0 ... 0 0 0]\n",
            " ...\n",
            " [0 0 1 ... 0 0 0]\n",
            " [0 0 0 ... 0 0 0]\n",
            " [0 0 0 ... 0 0 0]]\n"
          ]
        }
      ]
    },
    {
      "cell_type": "code",
      "source": [
        "# Tnormalized: document-term matrix normalized (value 0-1) according to the TF-IDF\n",
        "# TF(Term Frequency): the no. of times a term(a word here) appears in the current document(single sentence here)\n",
        "# IDF(Inverse Document Frequency): the no. of times a term(a word here) appears in the entire corpus\n",
        "# Corpus: set of all sentences\n",
        "\n",
        "normal_matrix = TfidfTransformer().fit_transform(cv_matrix)\n",
        "print(normal_matrix.toarray())"
      ],
      "metadata": {
        "colab": {
          "base_uri": "https://localhost:8080/"
        },
        "id": "tK4JeJdYWw8E",
        "outputId": "be60a76f-8c88-4647-a825-a13e6f2286db"
      },
      "execution_count": null,
      "outputs": [
        {
          "output_type": "stream",
          "name": "stdout",
          "text": [
            "[[0.         0.         0.         ... 0.         0.         0.        ]\n",
            " [0.         0.         0.         ... 0.         0.         0.        ]\n",
            " [0.         0.         0.         ... 0.         0.         0.        ]\n",
            " ...\n",
            " [0.         0.         0.24450772 ... 0.         0.         0.        ]\n",
            " [0.         0.         0.         ... 0.         0.         0.        ]\n",
            " [0.         0.         0.         ... 0.         0.         0.        ]]\n"
          ]
        }
      ]
    },
    {
      "cell_type": "code",
      "source": [
        "print(normal_matrix.T.toarray)\n",
        "res_graph = normal_matrix * normal_matrix.T\n",
        "# plt.spy(res_graph)"
      ],
      "metadata": {
        "colab": {
          "base_uri": "https://localhost:8080/"
        },
        "id": "_VfBDCqpW0Kh",
        "outputId": "b5d900b1-3ca2-4554-a3fb-000e0a61d749"
      },
      "execution_count": null,
      "outputs": [
        {
          "output_type": "stream",
          "name": "stdout",
          "text": [
            "<bound method _cs_matrix.toarray of <492x101 sparse matrix of type '<class 'numpy.float64'>'\n",
            "\twith 1223 stored elements in Compressed Sparse Column format>>\n"
          ]
        }
      ]
    },
    {
      "cell_type": "code",
      "source": [
        "pip install Networkx 3.0\n"
      ],
      "metadata": {
        "colab": {
          "base_uri": "https://localhost:8080/"
        },
        "id": "Ja5lg7AmXBaj",
        "outputId": "4643513a-72bb-4896-af11-67f615f11ae9"
      },
      "execution_count": null,
      "outputs": [
        {
          "output_type": "stream",
          "name": "stdout",
          "text": [
            "Looking in indexes: https://pypi.org/simple, https://us-python.pkg.dev/colab-wheels/public/simple/\n",
            "Requirement already satisfied: Networkx in /usr/local/lib/python3.9/dist-packages (3.1)\n",
            "\u001b[31mERROR: Could not find a version that satisfies the requirement 3.0 (from versions: none)\u001b[0m\u001b[31m\n",
            "\u001b[0m\u001b[31mERROR: No matching distribution found for 3.0\u001b[0m\u001b[31m\n",
            "\u001b[0m"
          ]
        }
      ]
    },
    {
      "cell_type": "code",
      "source": [
        "# drawing a graph to proceed for the textrank algorithm\n",
        "# nx_graph is a graph developed using the networkx library\n",
        "# each node represents a sentence\n",
        "# an edge represents that they have words in common\n",
        "# the edge weight is the number of words that are common in both of the sentences(nodes)\n",
        "# nx.draw() method is used to draw the graph created\n",
        "\n",
        "nx_graph = nx.from_scipy_sparse_array(res_graph)\n",
        "nx.draw_circular(nx_graph)\n",
        "print('Number of edges {}'.format(nx_graph.number_of_edges()))\n",
        "print('Number of vertices {}'.format(nx_graph.number_of_nodes()))\n",
        "plt.show()\n",
        "print('The memory used by the graph in Bytes is: {}'.format(sys.getsizeof(nx_graph)))"
      ],
      "metadata": {
        "colab": {
          "base_uri": "https://localhost:8080/",
          "height": 544
        },
        "id": "Y55wS_OGW4Bj",
        "outputId": "23ab569b-9da2-4bff-eacd-420697d8ecee"
      },
      "execution_count": null,
      "outputs": [
        {
          "output_type": "stream",
          "name": "stdout",
          "text": [
            "Number of edges 3319\n",
            "Number of vertices 101\n"
          ]
        },
        {
          "output_type": "display_data",
          "data": {
            "text/plain": [
              "<Figure size 640x480 with 1 Axes>"
            ],
            "image/png": "[encoded data removed]"
          },
          "metadata": {}
        },
        {
          "output_type": "stream",
          "name": "stdout",
          "text": [
            "The memory used by the graph in Bytes is: 48\n"
          ]
        }
      ]
    },
    {
      "cell_type": "code",
      "source": [
        "# ranks is a dictionary with key=node(sentences) and value=textrank (the rank of each of the sentences)\n",
        "ranks = nx.pagerank(nx_graph)\n",
        "\n",
        "# analyse the data type of ranks\n",
        "print(type(ranks))\n",
        "print('The size used by the dictionary in Bytes is: {}'.format(sys.getsizeof(ranks)))\n",
        "\n",
        "# print the dictionary\n",
        "for i in ranks:\n",
        "    print(i, ranks[i])"
      ],
      "metadata": {
        "colab": {
          "base_uri": "https://localhost:8080/"
        },
        "id": "sMUvCpc3XjKW",
        "outputId": "e0880425-4c02-4e6d-be9d-212af293bbbf"
      },
      "execution_count": null,
      "outputs": [
        {
          "output_type": "stream",
          "name": "stdout",
          "text": [
            "<class 'dict'>\n",
            "The size used by the dictionary in Bytes is: 4696\n",
            "0 0.008473050396994235\n",
            "1 0.011136728928068603\n",
            "2 0.009383758113199747\n",
            "3 0.010305311473077004\n",
            "4 0.011387878003998006\n",
            "5 0.011453806553948459\n",
            "6 0.011956616615231173\n",
            "7 0.013007582297781907\n",
            "8 0.01646287839865644\n",
            "9 0.011870375394732305\n",
            "10 0.012805637163062402\n",
            "11 0.012625721662310345\n",
            "12 0.010081809427917856\n",
            "13 0.012615817098175835\n",
            "14 0.009951004198363802\n",
            "15 0.012312866898217463\n",
            "16 0.00905563154351586\n",
            "17 0.007114339155021146\n",
            "18 0.0067471140170273294\n",
            "19 0.01107854731351773\n",
            "20 0.010166769608001893\n",
            "21 0.012780859072392963\n",
            "22 0.012641302785309182\n",
            "23 0.009348558444248853\n",
            "24 0.010022831759849004\n",
            "25 0.013720926664709483\n",
            "26 0.00967523353291061\n",
            "27 0.013901992235429548\n",
            "28 0.009475796944343159\n",
            "29 0.008121737705990758\n",
            "30 0.010128784557098498\n",
            "31 0.010061180193377258\n",
            "32 0.007628895359126891\n",
            "33 0.008648669935446914\n",
            "34 0.009607446148227936\n",
            "35 0.008321167851894651\n",
            "36 0.005865449854506728\n",
            "37 0.010850655936218322\n",
            "38 0.01016989679015465\n",
            "39 0.011316273575827006\n",
            "40 0.012806608183832108\n",
            "41 0.008721584132312048\n",
            "42 0.010471498183578098\n",
            "43 0.0069310162410310865\n",
            "44 0.015471208931766298\n",
            "45 0.006769574754561524\n",
            "46 0.00847046871802134\n",
            "47 0.007920488123990665\n",
            "48 0.009307304242218498\n",
            "49 0.013422349587962496\n",
            "50 0.00800377307176715\n",
            "51 0.010972977593541676\n",
            "52 0.005638736527026145\n",
            "53 0.008382997267176076\n",
            "54 0.010529607891291103\n",
            "55 0.01388066751249088\n",
            "56 0.012126702206111421\n",
            "57 0.006784615529807721\n",
            "58 0.006089601429223819\n",
            "59 0.008586642640796938\n",
            "60 0.008907144628014934\n",
            "61 0.010300210131439285\n",
            "62 0.007498144929122573\n",
            "63 0.011431342109109786\n",
            "64 0.0070336084718421255\n",
            "65 0.014620307759349064\n",
            "66 0.010952275488776595\n",
            "67 0.010544285648427243\n",
            "68 0.010429795820400786\n",
            "69 0.0095418617321447\n",
            "70 0.010525969363956913\n",
            "71 0.008928640660743125\n",
            "72 0.006048548423719141\n",
            "73 0.00797891836019073\n",
            "74 0.014936237724528284\n",
            "75 0.0057851131761969855\n",
            "76 0.01283079486351997\n",
            "77 0.009853549019121232\n",
            "78 0.005429708840559132\n",
            "79 0.00761018082820169\n",
            "80 0.008306177787750085\n",
            "81 0.01057520034676566\n",
            "82 0.006302922702336774\n",
            "83 0.006533326937930438\n",
            "84 0.008770716307206536\n",
            "85 0.013144181304936983\n",
            "86 0.007410276777927928\n",
            "87 0.010919714810479554\n",
            "88 0.009071467904553753\n",
            "89 0.007324323114289139\n",
            "90 0.011678174623675307\n",
            "91 0.008559039093945649\n",
            "92 0.007144824222961522\n",
            "93 0.008754682443611118\n",
            "94 0.007575234843209658\n",
            "95 0.008323733804457837\n",
            "96 0.009463817503427964\n",
            "97 0.013055845277031975\n",
            "98 0.012555442089009524\n",
            "99 0.01007944190625105\n",
            "100 0.009695491842487962\n"
          ]
        }
      ]
    },
    {
      "cell_type": "code",
      "source": [
        "# enumerate method: returns an enumerate object\n",
        "# Use of list Comprehensions\n",
        "# O/p: sentence_array is the sorted(descending order w.r.t. score value) 2-d array of ranks[sentence] and sentence \n",
        "# For example, if there are two sentences: S1 (with a score of S1 = s1) and S2 with score s2, with s2>s1\n",
        "# then sentence_array is [[s2, S2], [s1, S1]]\n",
        "sentence_array = sorted(((ranks[i], s) for i, s in enumerate(sentences_list)), reverse=True)\n",
        "sentence_array = np.asarray(sentence_array)"
      ],
      "metadata": {
        "id": "9a4_s-i8XowZ"
      },
      "execution_count": null,
      "outputs": []
    },
    {
      "cell_type": "code",
      "source": [
        "# as sentence_array is in descending order wrt score value\n",
        "# fmax is the largest score value(the score of first element)\n",
        "# fmin is the smallest score value(the score of last element)\n",
        "\n",
        "rank_max = float(sentence_array[0][0])\n",
        "rank_min = float(sentence_array[len(sentence_array) - 1][0])"
      ],
      "metadata": {
        "id": "7HRNB-uEXrzW"
      },
      "execution_count": null,
      "outputs": []
    },
    {
      "cell_type": "code",
      "source": [
        "print(rank_max)\n",
        "print(rank_min)\n"
      ],
      "metadata": {
        "colab": {
          "base_uri": "https://localhost:8080/"
        },
        "id": "YWFlkDWJXuyt",
        "outputId": "db339a1a-2dba-40ca-8a64-87b016a15ee7"
      },
      "execution_count": null,
      "outputs": [
        {
          "output_type": "stream",
          "name": "stdout",
          "text": [
            "0.01646287839865644\n",
            "0.005429708840559132\n"
          ]
        }
      ]
    },
    {
      "cell_type": "code",
      "source": [
        "# Normalization of the scores\n",
        "# so that it comes out in the range 0-1\n",
        "# fmax becomes 1\n",
        "# fmin becomes 0\n",
        "# store the normalized values in the list temp_array\n",
        "\n",
        "temp_array = []\n",
        "\n",
        "# if all sentences have equal ranks, means they are all the same\n",
        "# taking any sentence will give the summary, say the first sentence\n",
        "flag = 0\n",
        "if rank_max - rank_min == 0:\n",
        "    temp_array.append(0)\n",
        "    flag = 1\n",
        "\n",
        "# If the sentence has different ranks\n",
        "if flag != 1:\n",
        "    for i in range(0, len(sentence_array)):\n",
        "        temp_array.append((float(sentence_array[i][0]) - rank_min) / (rank_max - rank_min))\n",
        "\n",
        "print(len(temp_array))"
      ],
      "metadata": {
        "colab": {
          "base_uri": "https://localhost:8080/"
        },
        "id": "_dxPOMRGXyBE",
        "outputId": "adb519b5-68d0-481e-e4a9-faf16ad635c2"
      },
      "execution_count": null,
      "outputs": [
        {
          "output_type": "stream",
          "name": "stdout",
          "text": [
            "101\n"
          ]
        }
      ]
    },
    {
      "cell_type": "code",
      "source": [
        "# Calculation of threshold:\n",
        "# We take the mean value of normalized scores\n",
        "# any sentence with the normalized score 0.2 more than the mean value is considered to be \n",
        "threshold = (sum(temp_array) / len(temp_array)) + 0.2"
      ],
      "metadata": {
        "id": "vg8Fzj4IX0-H"
      },
      "execution_count": null,
      "outputs": []
    },
    {
      "cell_type": "code",
      "source": [
        "# Separate out the sentences that satiasfy the criteria of having a score above the threshold\n",
        "sentence_list = []\n",
        "if len(temp_array) > 1:\n",
        "    for i in range(0, len(temp_array)):\n",
        "        if temp_array[i] > threshold:\n",
        "                sentence_list.append(sentence_array[i][1])\n",
        "else:\n",
        "    sentence_list.append(sentence_array[0][1])"
      ],
      "metadata": {
        "id": "PjOS7HL0X3L9"
      },
      "execution_count": null,
      "outputs": []
    },
    {
      "cell_type": "code",
      "source": [
        "model = sentence_list"
      ],
      "metadata": {
        "id": "zmz1AN9TX5Ed"
      },
      "execution_count": null,
      "outputs": []
    },
    {
      "cell_type": "code",
      "source": [
        "# print(sentence_list)\n",
        "summary = \" \".join(str(x) for x in sentence_list)\n",
        "print(summary)\n",
        "# save the data in another file, names sum.txt\n",
        "f = open('final3.txt', 'a+')\n",
        "#print(type(f))\n",
        "f.write('\\n')\n",
        "f.write(summary)\n",
        "f.close"
      ],
      "metadata": {
        "colab": {
          "base_uri": "https://localhost:8080/"
        },
        "id": "paQ1TTzIX78X",
        "outputId": "914050fc-ba05-47d3-c93d-fd9adcf0456b"
      },
      "execution_count": null,
      "outputs": [
        {
          "output_type": "stream",
          "name": "stdout",
          "text": [
            "But on the days when she had to parch grain for Pandit\n",
            "Udaybhan Pandey, the owner of the village, she went to bed hungry. People went to Panditji and asked him to\n",
            "give the order for the old woman's oven to be rebuilt and the fire once more\n",
            "lighted, but he paid no attention to them. 'If you’re going to stay in the village you'll have to do my chores. He kicked at the trough again but she ran in front of it\n",
            "and took the kick in her side. She had to\n",
            "keep stopping from the parching in order to keep the oven fire going. Bhungi was energetically rebuilding it with balls of clay Most\n",
            "likely she'd spent the night at this work and wanted to finish it before the sun\n",
            "was high. With this command the servants went away and Bhungi began to parch the\n",
            "grain. Here she had\n",
            "known the sorrows and pleasures of life; she could not give it up now in the\n",
            "last days. ‘To his attendants he said, 'Go get a pile of leaves right\n",
            "away and set fire to the whole thing; we'll show her how to make an oven. By now the\n",
            "whole village was in a panic. She would stack the leaves right next to the oven, and after\n",
            "twelve, light the fire. I can't do your work just for the\n",
            "sake of staying in the village. The result was that that night the oven was dug up and Bhungi was left\n",
            "without a means of livelihood. And, for this reason, from time to time the oven\n",
            "was not lit. It was already\n",
            "after twelve and even by sunset, she would not have time to parch so much\n",
            "grain. Now she would have to stay at the oven parching until after dark for\n",
            "no payment. She lived in the Pandit's village, therefore he had full authority to\n",
            "make her do any sort of odd job. He was doing her a favour, in fact, by letting her live in the village at all. They began to band together to put out the fire\n",
            "but the sprinkle of water acted like oil on it and the flames kept mounting\n",
            "higher. No fire was lit in the houses Bhungi's oven was being put to good\n",
            "use today. She knew that she was going against the Pandit's wishes, but she\n",
            "hoped that he had forgotten his anger by then.\n"
          ]
        },
        {
          "output_type": "execute_result",
          "data": {
            "text/plain": [
              "<function TextIOWrapper.close()>"
            ]
          },
          "metadata": {},
          "execution_count": 38
        }
      ]
    },
    {
      "cell_type": "code",
      "source": [
        "for lines in sentence_list:\n",
        "    print(lines)"
      ],
      "metadata": {
        "colab": {
          "base_uri": "https://localhost:8080/"
        },
        "id": "EtvHr1dDX-Ok",
        "outputId": "70843fe5-9686-4812-c955-c584676950c1"
      },
      "execution_count": null,
      "outputs": [
        {
          "output_type": "stream",
          "name": "stdout",
          "text": [
            "But on the days when she had to parch grain for Pandit\n",
            "Udaybhan Pandey, the owner of the village, she went to bed hungry.\n",
            "People went to Panditji and asked him to\n",
            "give the order for the old woman's oven to be rebuilt and the fire once more\n",
            "lighted, but he paid no attention to them.\n",
            "'If you’re going to stay in the village you'll have to do my chores.\n",
            "He kicked at the trough again but she ran in front of it\n",
            "and took the kick in her side.\n",
            "She had to\n",
            "keep stopping from the parching in order to keep the oven fire going.\n",
            "Bhungi was energetically rebuilding it with balls of clay Most\n",
            "likely she'd spent the night at this work and wanted to finish it before the sun\n",
            "was high.\n",
            "With this command the servants went away and Bhungi began to parch the\n",
            "grain.\n",
            "Here she had\n",
            "known the sorrows and pleasures of life; she could not give it up now in the\n",
            "last days.\n",
            "‘To his attendants he said, 'Go get a pile of leaves right\n",
            "away and set fire to the whole thing; we'll show her how to make an oven.\n",
            "By now the\n",
            "whole village was in a panic.\n",
            "She would stack the leaves right next to the oven, and after\n",
            "twelve, light the fire.\n",
            "I can't do your work just for the\n",
            "sake of staying in the village.\n",
            "The result was that that night the oven was dug up and Bhungi was left\n",
            "without a means of livelihood.\n",
            "And, for this reason, from time to time the oven\n",
            "was not lit.\n",
            "It was already\n",
            "after twelve and even by sunset, she would not have time to parch so much\n",
            "grain.\n",
            "Now she would have to stay at the oven parching until after dark for\n",
            "no payment.\n",
            "She lived in the Pandit's village, therefore he had full authority to\n",
            "make her do any sort of odd job.\n",
            "He was doing her a favour, in fact, by letting her live in the village at all.\n",
            "They began to band together to put out the fire\n",
            "but the sprinkle of water acted like oil on it and the flames kept mounting\n",
            "higher.\n",
            "No fire was lit in the houses Bhungi's oven was being put to good\n",
            "use today.\n",
            "She knew that she was going against the Pandit's wishes, but she\n",
            "hoped that he had forgotten his anger by then.\n"
          ]
        }
      ]
    }
  ]
}